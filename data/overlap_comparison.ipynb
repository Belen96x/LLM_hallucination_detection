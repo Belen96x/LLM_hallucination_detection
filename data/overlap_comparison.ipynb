{
 "cells": [
  {
   "cell_type": "code",
   "execution_count": 2,
   "id": "e0e7acfc",
   "metadata": {},
   "outputs": [],
   "source": [
    "from difflib import SequenceMatcher\n",
    "import pandas as pd\n",
    "import re"
   ]
  },
  {
   "cell_type": "code",
   "execution_count": 6,
   "id": "819d9cc2",
   "metadata": {},
   "outputs": [],
   "source": [
    "df_zero_llama3 = pd.read_csv('output_zeroshot_llama3.csv')\n",
    "df_one_llama3 = pd.read_csv('output_oneshot_llama3.csv')\n",
    "df_zero_gemma2 = pd.read_csv('output_zeroshot_gemma2.csv')\n",
    "df_one_gemma2 = pd.read_csv('output_oneshot_gemma2.csv')"
   ]
  },
  {
   "cell_type": "code",
   "execution_count": 3,
   "id": "75e6ea74",
   "metadata": {},
   "outputs": [],
   "source": [
    "def clean_text(text):\n",
    "    return re.sub(r'<<<|>>>', '', text).strip().lower()\n",
    "\n",
    "def extract_aligned_prediction(mt_text, raw_output):\n",
    "    if not isinstance(mt_text, str) or not isinstance(raw_output, str):\n",
    "        return None\n",
    "\n",
    "    cleaned_mt = clean_text(mt_text)\n",
    "    lines = raw_output.strip().split('\\n')\n",
    "\n",
    "    best_match = None\n",
    "    best_ratio = 0.0\n",
    "\n",
    "    for line in lines:\n",
    "        line_clean = clean_text(line)\n",
    "        ratio = SequenceMatcher(None, cleaned_mt, line_clean).ratio()\n",
    "\n",
    "        if ratio > best_ratio:\n",
    "            best_ratio = ratio\n",
    "            best_match = line.strip()\n",
    "\n",
    "    if best_ratio >= 0.8:\n",
    "        return best_match\n",
    "    else:\n",
    "        return None\n"
   ]
  },
  {
   "cell_type": "code",
   "execution_count": 7,
   "id": "9095235c",
   "metadata": {},
   "outputs": [],
   "source": [
    "df_one_gemma2['prediction_hall'] = df_one_gemma2.apply(\n",
    "    lambda row: extract_aligned_prediction(row['mt_text'], row['raw_output']), axis=1\n",
    ")\n"
   ]
  },
  {
   "cell_type": "code",
   "execution_count": 9,
   "id": "14976fe4",
   "metadata": {},
   "outputs": [],
   "source": [
    "df_one_llama3['prediction_hall'] = df_one_llama3.apply(\n",
    "    lambda row: extract_aligned_prediction(row['mt_text'], row['raw_output']), axis=1\n",
    ")"
   ]
  },
  {
   "cell_type": "code",
   "execution_count": 11,
   "id": "0d6e5b88",
   "metadata": {},
   "outputs": [],
   "source": [
    "df_zero_llama3['prediction_hall'] = df_zero_llama3.apply(\n",
    "    lambda row: extract_aligned_prediction(row['mt_text'], row['raw_output']), axis=1\n",
    ")"
   ]
  },
  {
   "cell_type": "code",
   "execution_count": 12,
   "id": "4894fcf0",
   "metadata": {},
   "outputs": [],
   "source": [
    "df_zero_gemma2['prediction_hall'] = df_zero_gemma2.apply(\n",
    "    lambda row: extract_aligned_prediction(row['mt_text'], row['raw_output']), axis=1\n",
    ")"
   ]
  },
  {
   "cell_type": "code",
   "execution_count": 20,
   "id": "9c950b93",
   "metadata": {},
   "outputs": [],
   "source": [
    "import re\n",
    "\n",
    "def extract_prediction_label(output_text):\n",
    "    if not isinstance(output_text, str):\n",
    "        return None\n",
    "\n",
    "    output_text = output_text.lower()\n",
    "\n",
    "    labels = [\n",
    "        \"no_hallucination\",\n",
    "        \"small_hallucination\",\n",
    "        \"partial_hallucination\",\n",
    "        \"full_hallucination\"\n",
    "    ]\n",
    "\n",
    "    for label in labels:\n",
    "        # Patrón: número opcional + separador opcional + label\n",
    "        pattern = rf\"(\\d+[\\._]?\\s*)?{label}\"\n",
    "        if re.search(pattern, output_text):\n",
    "            return label\n",
    "\n",
    "    return None\n"
   ]
  },
  {
   "cell_type": "code",
   "execution_count": 21,
   "id": "1689ec08",
   "metadata": {},
   "outputs": [],
   "source": [
    "df_list = [df_one_gemma2, df_one_llama3, df_zero_gemma2, df_zero_llama3]\n",
    "\n",
    "for df in df_list:\n",
    "    df['prediction_label'] = df['raw_output'].apply(extract_prediction_label)"
   ]
  },
  {
   "cell_type": "code",
   "execution_count": 24,
   "id": "4ed110c6",
   "metadata": {},
   "outputs": [],
   "source": [
    "df_names = ['one_gemma2', 'one_llama3', 'zero_gemma2', 'zero_llama3']\n",
    "\n",
    "for df, name in zip(df_list, df_names):\n",
    "    df.to_csv(f'clean_output_{name}.csv', index=False)"
   ]
  }
 ],
 "metadata": {
  "kernelspec": {
   "display_name": "base",
   "language": "python",
   "name": "python3"
  },
  "language_info": {
   "codemirror_mode": {
    "name": "ipython",
    "version": 3
   },
   "file_extension": ".py",
   "mimetype": "text/x-python",
   "name": "python",
   "nbconvert_exporter": "python",
   "pygments_lexer": "ipython3",
   "version": "3.11.5"
  }
 },
 "nbformat": 4,
 "nbformat_minor": 5
}
